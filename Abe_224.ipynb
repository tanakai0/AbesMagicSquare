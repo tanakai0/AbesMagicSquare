{
 "cells": [
  {
   "cell_type": "code",
   "execution_count": null,
   "metadata": {},
   "outputs": [],
   "source": [
    "import magic_square\n",
    "ms = magic_square.Abe224()\n",
    "# ms.print_magicsq()\n",
    "ms.write_csv()\n",
    "# ms.draw_pic(filename = \"Abe_224_monotone.png\")\n",
    "ms.draw_pic(filename = \"Abe_224.png\", color_list = magic_square.REGIONS_AND_COLORS)"
   ]
  },
  {
   "cell_type": "markdown",
   "metadata": {},
   "source": [
    "# Exchange locations that satisfy the sum condition of the diagonals\n",
    "\n",
    "- Squares on the outer boundary through which the main diagonal passes: 18, 50\n",
    "- Squares on the outer boundary through which the secondary diagonal passes: 18, 30, 34, 50, (54), (66), 70, 74"
   ]
  },
  {
   "cell_type": "markdown",
   "metadata": {},
   "source": [
    "## Main diagonal line"
   ]
  },
  {
   "cell_type": "markdown",
   "metadata": {},
   "source": [
    "### 18\n",
    "\n",
    "- Exchange 34967 and 34986: +19\n",
    "- Exchange 15199 and 15200: +1"
   ]
  },
  {
   "cell_type": "code",
   "execution_count": null,
   "metadata": {},
   "outputs": [],
   "source": [
    "import magic_square\n",
    "n = 18\n",
    "ms = magic_square.pattern_8m_2_8m_6(n, magic_square.MIN_NUMS[n])\n",
    "ms.print_magicsq()\n",
    "\n",
    "# Cross point of main diagonal line and boundary\n",
    "[p1, p2] = magic_square.MAIN_DIAG_POS[n]\n",
    "v1 = ms.magicsq[p1[0]][p1[1]]\n",
    "v2 = ms.magicsq[p2[0]][p2[1]]\n",
    "print(f\"({p1[0]}, {p1[1]}): {v1}\")\n",
    "print(f\"({p2[0]}, {p2[1]}): {v2}\")"
   ]
  },
  {
   "cell_type": "markdown",
   "metadata": {},
   "source": [
    "### 50\n",
    "\n",
    "- Exchange 36186 and 36237: +51"
   ]
  },
  {
   "cell_type": "code",
   "execution_count": null,
   "metadata": {},
   "outputs": [],
   "source": [
    "import magic_square\n",
    "n = 50\n",
    "ms = magic_square.pattern_8m_2_8m_6(n, magic_square.MIN_NUMS[n])\n",
    "ms.print_magicsq()\n",
    "\n",
    "[p1, p2] = magic_square.MAIN_DIAG_POS[n]\n",
    "v1 = ms.magicsq[p1[0]][p1[1]]\n",
    "v2 = ms.magicsq[p2[0]][p2[1]]\n",
    "print(f\"({p1[0]}, {p1[1]}): {v1}\")\n",
    "print(f\"({p2[0]}, {p2[1]}): {v2}\")"
   ]
  },
  {
   "cell_type": "markdown",
   "metadata": {},
   "source": [
    "## Anti diagonal line"
   ]
  },
  {
   "cell_type": "markdown",
   "metadata": {},
   "source": [
    "### 18"
   ]
  },
  {
   "cell_type": "code",
   "execution_count": null,
   "metadata": {},
   "outputs": [],
   "source": [
    "import magic_square\n",
    "n = 18\n",
    "ms = magic_square.pattern_8m_2_8m_6(n, magic_square.MIN_NUMS[n])\n",
    "ms.print_magicsq()\n",
    "\n",
    "# Cross point of anti diagonal line and boundary\n",
    "[p1, p2] = magic_square.ANTI_DIAG_POS[n]\n",
    "v1 = ms.magicsq[p1[0]][p1[1]]\n",
    "v2 = ms.magicsq[p2[0]][p2[1]]\n",
    "print(f\"({p1[0]}, {p1[1]}): {v1}\")\n",
    "print(f\"({p2[0]}, {p2[1]}): {v2}\")"
   ]
  },
  {
   "cell_type": "markdown",
   "metadata": {},
   "source": [
    "### 30"
   ]
  },
  {
   "cell_type": "code",
   "execution_count": null,
   "metadata": {},
   "outputs": [],
   "source": [
    "import magic_square\n",
    "n = 30\n",
    "ms = magic_square.pattern_8m_2_8m_6(n, magic_square.MIN_NUMS[n])\n",
    "\n",
    "ms.print_magicsq()\n",
    "\n",
    "[p1, p2] = magic_square.ANTI_DIAG_POS[n]\n",
    "v1 = ms.magicsq[p1[0]][p1[1]]\n",
    "v2 = ms.magicsq[p2[0]][p2[1]]\n",
    "min_1 = min([ms.magicsq[i][29] for i in range(1, 29)])\n",
    "min_2 = min([ms.magicsq[29][j] for j in range(1, 29)])\n",
    "\n",
    "print(f\"({p1[0]}, {p1[1]}): {v1}\")\n",
    "print(f\"{min_1} - {v1} = {min_1 - v1}\")\n",
    "print(f\"({p2[0]}, {p2[1]}): {v2}\")\n",
    "print(f\"{min_2} - {v2} = {min_2 - v2}\")"
   ]
  },
  {
   "cell_type": "markdown",
   "metadata": {},
   "source": [
    "### 34"
   ]
  },
  {
   "cell_type": "code",
   "execution_count": null,
   "metadata": {},
   "outputs": [],
   "source": [
    "import magic_square\n",
    "n = 34\n",
    "ms = magic_square.pattern_8m_2_8m_6(n, magic_square.MIN_NUMS[n])\n",
    "ms.print_magicsq()\n",
    "[p1, p2] = magic_square.ANTI_DIAG_POS[n]\n",
    "v1 = ms.magicsq[p1[0]][p1[1]]\n",
    "v2 = ms.magicsq[p2[0]][p2[1]]\n",
    "print(f\"({p1[0]}, {p1[1]}): {v1}\")\n",
    "print(f\"({p2[0]}, {p2[1]}): {v2}\")"
   ]
  },
  {
   "cell_type": "markdown",
   "metadata": {},
   "source": [
    "### 50"
   ]
  },
  {
   "cell_type": "code",
   "execution_count": null,
   "metadata": {},
   "outputs": [],
   "source": [
    "import magic_square\n",
    "n = 50\n",
    "ms = magic_square.pattern_8m_2_8m_6(n, magic_square.MIN_NUMS[n])\n",
    "ms.print_magicsq()\n",
    "[p1, p2] = magic_square.ANTI_DIAG_POS[n]\n",
    "v1 = ms.magicsq[p1[0]][p1[1]]\n",
    "v2 = ms.magicsq[p2[0]][p2[1]]\n",
    "print(f\"({p1[0]}, {p1[1]}): {v1}\")\n",
    "print(f\"({p2[0]}, {p2[1]}): {v2}\")"
   ]
  },
  {
   "cell_type": "markdown",
   "metadata": {},
   "source": [
    "### 70"
   ]
  },
  {
   "cell_type": "code",
   "execution_count": null,
   "metadata": {},
   "outputs": [],
   "source": [
    "import magic_square\n",
    "n = 70\n",
    "ms = magic_square.pattern_8m_2_8m_6(n, magic_square.MIN_NUMS[n])\n",
    "ms.print_magicsq()\n",
    "[p1, p2] = magic_square.ANTI_DIAG_POS[n]\n",
    "v1 = ms.magicsq[p1[0]][p1[1]]\n",
    "v2 = ms.magicsq[p2[0]][p2[1]]\n",
    "print(f\"({p1[0]}, {p1[1]}): {v1}\")\n",
    "print(f\"({p2[0]}, {p2[1]}): {v2}\")"
   ]
  },
  {
   "cell_type": "markdown",
   "metadata": {},
   "source": [
    "### 74"
   ]
  },
  {
   "cell_type": "code",
   "execution_count": null,
   "metadata": {},
   "outputs": [],
   "source": [
    "import magic_square\n",
    "n = 74\n",
    "ms = magic_square.pattern_8m_2_8m_6(n, magic_square.MIN_NUMS[n])\n",
    "ms.print_magicsq()\n",
    "[p1, p2] = magic_square.ANTI_DIAG_POS[n]\n",
    "v1 = ms.magicsq[p1[0]][p1[1]]\n",
    "v2 = ms.magicsq[p2[0]][p2[1]]\n",
    "\n",
    "print(f\"({p1[0]}, {p1[1]}): {v1}\")\n",
    "print(f\"({p2[0]}, {p2[1]}): {v2}\")"
   ]
  },
  {
   "cell_type": "markdown",
   "metadata": {},
   "source": [
    "## Search exchange point as subset sum problem"
   ]
  },
  {
   "cell_type": "code",
   "execution_count": null,
   "metadata": {},
   "outputs": [],
   "source": [
    "# Using the subset sum problem to find a total sum from exchanging outer boundary numbers that is closest to the sum of a row in the 224 magic square.\n",
    "\n",
    "from itertools import chain, combinations\n",
    "\n",
    "def generate_all_combinations(small_diffs, large_diffs):\n",
    "    n = len(small_diffs)\n",
    "    all_combinations = []\n",
    "    \n",
    "    for i in range(1 << n):  # 2^n patterns\n",
    "        combination = [small_diffs[j] if (i & (1 << j)) == 0 else large_diffs[j] for j in range(n)]\n",
    "        all_combinations.append(combination)\n",
    "    \n",
    "    return all_combinations\n",
    "\n",
    "def closest_subset(nums, target_sum):\n",
    "    error = abs(10*target_sum)\n",
    "    subset = None\n",
    "    for t in chain.from_iterable(combinations(nums, r) for r in range(len(nums) + 1)):\n",
    "        temp_error = abs(target_sum - sum(t))\n",
    "        if temp_error < error:\n",
    "            error = temp_error\n",
    "            subset = t\n",
    "    return error, subset\n",
    "\n",
    "diffs = {\n",
    "    (18, 'row'): [ 19745,  19769],  # Change range in row of 18's magic square\n",
    "    (18, 'col'): [ 19769,  19785],  # Change range in col of 18's magic square\n",
    "    (30, 'row'): [-30600, -30555],\n",
    "    (30, 'col'): [-30628, -30603],\n",
    "    (34, 'row'): [-29698, -29638],\n",
    "    (34, 'col'): [-29723, -29694],\n",
    "    (50, 'row'): [ 22145,  22233],\n",
    "    (50, 'col'): [ 22233,  22278],\n",
    "    (70, 'row'): [-40046, -39931],\n",
    "    (70, 'col'): [-40114, -40059],\n",
    "    (74, 'row'): [ 10647,  10769],\n",
    "    (74, 'col'): [ 10783,  10841],\n",
    "}\n",
    "\n",
    "small_diffs = [v[0] for v in diffs.values()]\n",
    "large_diffs = [v[1] for v in diffs.values()]\n",
    "best_error = 10 * 47602\n",
    "best_subset = None\n",
    "target_sum = -47602\n",
    "for nums in generate_all_combinations(small_diffs, large_diffs):\n",
    "    error, subset = closest_subset(nums, a = target_sum)\n",
    "    if error < best_error:\n",
    "        best_error = error\n",
    "        best_subset = subset\n",
    "print(f\"error: {best_error}, subset: {best_subset}\")"
   ]
  },
  {
   "cell_type": "markdown",
   "metadata": {},
   "source": [
    "## Coloring"
   ]
  },
  {
   "cell_type": "code",
   "execution_count": 8,
   "metadata": {},
   "outputs": [],
   "source": [
    "# test\n",
    "\n",
    "import magic_square\n",
    "ms = magic_square.MagicSquare(5)\n",
    "ms.assign(0, 0, 50176)\n",
    "ms.assign(2, 2, 1176)\n",
    "ms.assign(3, 3, 76)\n",
    "ms.assign(2, 1, 6)\n",
    "ms.draw_pic(color_list = [(0, 0, 1, 1, \"#ADD8E6\"), (2, 2, 3, 4, \"#FFA07A\")])"
   ]
  },
  {
   "cell_type": "code",
   "execution_count": null,
   "metadata": {},
   "outputs": [],
   "source": [
    "# coloring by 4 colors using backtrack algorithm\n",
    "\n",
    "import magic_square\n",
    "adjacent_regions = magic_square.ADJACENT_REGIONS\n",
    "\n",
    "# color, 0: None, 1, 2, 3, 4: some color\n",
    "colors = {k: 0 for k in adjacent_regions.keys()}\n",
    "indexes = [4, 8, 12, 14, 16, 18, 22, 30, 32, 34, 36, 38, 48, 50, 54, 58, 66, 70, 74, 84, 100]\n",
    "\n",
    "def backtrack_coloring(adjacent_regions, colors, indexes, pos):\n",
    "    if pos == len(colors):\n",
    "        return colors\n",
    "    else:\n",
    "        # print(pos, colors)\n",
    "        for i in range(1, 5):\n",
    "            adjacents_colors = set([colors[x] for x in adjacent_regions[indexes[pos]]]) - set([0])\n",
    "            if i in adjacents_colors:\n",
    "                continue\n",
    "            colors[indexes[pos]] = i\n",
    "            colors = backtrack_coloring(adjacent_regions, colors, indexes, pos + 1)\n",
    "        return colors\n",
    "    \n",
    "print(backtrack_coloring(adjacent_regions, colors, indexes, 0))\n",
    "\n",
    "# color4 = [\"#1f77b4\", \"#ff7f0e\", \"#2ca02c\", \"#9467bd\"]\n",
    "color4 = [\"#FFCA3A\", \"#48D1CC\", \"#8AC926\", \"#6A4C93\"]\n",
    "color_list = []\n",
    "for r in magic_square.REGIONS.values():\n",
    "    color_list.append((r[0], r[1], r[2], r[3], color4[colors[r[2] - r[0] + 1] - 1]))\n",
    "ms = magic_square.Abe224()\n",
    "ms.draw_pic(filename = \"Abe_224.png\", color_list = color_list)"
   ]
  }
 ],
 "metadata": {
  "kernelspec": {
   "display_name": "venv",
   "language": "python",
   "name": "python3"
  },
  "language_info": {
   "codemirror_mode": {
    "name": "ipython",
    "version": 3
   },
   "file_extension": ".py",
   "mimetype": "text/x-python",
   "name": "python",
   "nbconvert_exporter": "python",
   "pygments_lexer": "ipython3",
   "version": "3.12.5"
  }
 },
 "nbformat": 4,
 "nbformat_minor": 2
}
